{
 "cells": [
  {
   "cell_type": "code",
   "execution_count": 2,
   "id": "c3274480-bba1-4e9f-b2f1-627100cfde05",
   "metadata": {},
   "outputs": [
    {
     "name": "stdout",
     "output_type": "stream",
     "text": [
      "Super Subroutine\n",
      "\n"
     ]
    },
    {
     "name": "stdin",
     "output_type": "stream",
     "text": [
      "What color do you want to use?  purple\n",
      "What word do you want to print?  I am in love with coding\n"
     ]
    },
    {
     "name": "stdout",
     "output_type": "stream",
     "text": [
      "with my new program I can just call the \u001b[35mcolor \u001b[0mand the word will appear in the color i called example: \u001b[35mI am in love with coding\n"
     ]
    }
   ],
   "source": [
    "print(\"Super Subroutine\")\n",
    "print()\n",
    "color = input(\"What color do you want to use? \")\n",
    "word = input(\"What word do you want to print? \")\n",
    "def colorPrinter(color, word):\n",
    "  if color == \"red\":\n",
    "    print(\"with my new program I can just call the \", \"\\033[31m\", \"color \", \"\\033[0m\", \"and the word will appear in the color i called example: \", \"\\033[31m\", word, sep=\"\")\n",
    "  elif color == \"green\":\n",
    "    print(\"with my new program I can just call the \", \"\\033[32m\", \"color \", \"\\033[0m\", \"and the word will appear in the color i called example: \", \"\\033[32m\", word, sep=\"\")\n",
    "  elif color == \"blue\":\n",
    "    print(\"with my new program I can just call the \", \"\\033[34m\", \"color\", \"\\033[0m\", \"and the word will appear in the color i called example: \", \"\\033[34m\", word, sep=\"\")\n",
    "  elif color == \"purple\":\n",
    "    print(\"with my new program I can just call the \", \"\\033[35m\", \"color \", \"\\033[0m\", \"and the word will appear in the color i called example: \", \"\\033[35m\", word, sep=\"\")\n",
    "  elif color == \"yellow\":\n",
    "    print(\"with my new program I can just call the \", \"\\033[33m\", \"color \", \"\\033[0m\", \"and the word will appear in the color i called example: \", \"\\033[33m\", word, sep=\"\")\n",
    "  else:\n",
    "    print(\"with my new program I can just call the \", \"\\033[0m\", \"color \", \"\\033[0m\", \"and the word will appear in the color i called example: \", \"\\033[0m\", word, sep=\"\")\n",
    "\n",
    "\n",
    "colorPrinter(color, word)\n",
    "  "
   ]
  },
  {
   "cell_type": "code",
   "execution_count": null,
   "id": "b4da2128-a67c-4fcd-b8e9-376a060a61e9",
   "metadata": {},
   "outputs": [],
   "source": []
  }
 ],
 "metadata": {
  "kernelspec": {
   "display_name": "Python 3 (ipykernel)",
   "language": "python",
   "name": "python3"
  },
  "language_info": {
   "codemirror_mode": {
    "name": "ipython",
    "version": 3
   },
   "file_extension": ".py",
   "mimetype": "text/x-python",
   "name": "python",
   "nbconvert_exporter": "python",
   "pygments_lexer": "ipython3",
   "version": "3.12.4"
  }
 },
 "nbformat": 4,
 "nbformat_minor": 5
}
